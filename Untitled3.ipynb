{
  "nbformat": 4,
  "nbformat_minor": 0,
  "metadata": {
    "colab": {
      "provenance": [],
      "authorship_tag": "ABX9TyMY4kqMXT6uq1x3NnFuQsl6",
      "include_colab_link": true
    },
    "kernelspec": {
      "name": "python3",
      "display_name": "Python 3"
    },
    "language_info": {
      "name": "python"
    }
  },
  "cells": [
    {
      "cell_type": "markdown",
      "metadata": {
        "id": "view-in-github",
        "colab_type": "text"
      },
      "source": [
        "<a href=\"https://colab.research.google.com/github/gyeomsoon/start-1-html-css-/blob/main/Untitled3.ipynb\" target=\"_parent\"><img src=\"https://colab.research.google.com/assets/colab-badge.svg\" alt=\"Open In Colab\"/></a>"
      ]
    },
    {
      "cell_type": "code",
      "execution_count": 8,
      "metadata": {
        "colab": {
          "base_uri": "https://localhost:8080/"
        },
        "id": "flyuXvGTNg18",
        "outputId": "1e7914da-f9cd-4272-ef23-5076f860b8fd"
      },
      "outputs": [
        {
          "output_type": "stream",
          "name": "stdout",
          "text": [
            "6\n"
          ]
        }
      ],
      "source": [
        "def mul(x, y, z):\n",
        "  return x*y*z\n",
        "\n",
        "A = 1\n",
        "B = 2\n",
        "C = 3\n",
        "result = mul(A, B ,C)\n",
        "print(result)\n"
      ]
    },
    {
      "cell_type": "code",
      "source": [
        "a = 4.5\n",
        "if a>4.5:\n",
        "  print('5')\n",
        "elif a== 4.5:\n",
        "  print('5')\n",
        "else:\n",
        "  print('4')\n"
      ],
      "metadata": {
        "colab": {
          "base_uri": "https://localhost:8080/"
        },
        "id": "q71X7d5NPjNZ",
        "outputId": "1b755d4e-3185-460d-c0bb-7847ae386f88"
      },
      "execution_count": 13,
      "outputs": [
        {
          "output_type": "stream",
          "name": "stdout",
          "text": [
            "5\n"
          ]
        }
      ]
    },
    {
      "cell_type": "code",
      "source": [
        "def custom_round(x):\n",
        "  if (x - int(x))>=0.5:\n",
        "    y = int(x)+1\n",
        "  else:\n",
        "    y = int(x)\n",
        "  return y\n",
        "print(custom_round(4.4))\n",
        "\n"
      ],
      "metadata": {
        "colab": {
          "base_uri": "https://localhost:8080/"
        },
        "id": "4nP0xX4VRA9B",
        "outputId": "cd0a1f61-3b57-4bbd-ae68-72aafa949fcf"
      },
      "execution_count": 18,
      "outputs": [
        {
          "output_type": "stream",
          "name": "stdout",
          "text": [
            "4\n"
          ]
        }
      ]
    }
  ]
}