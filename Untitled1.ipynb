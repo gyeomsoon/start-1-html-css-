{
  "nbformat": 4,
  "nbformat_minor": 0,
  "metadata": {
    "colab": {
      "provenance": [],
      "authorship_tag": "ABX9TyNzeGRQSn83qUSs69Znwz4i",
      "include_colab_link": true
    },
    "kernelspec": {
      "name": "python3",
      "display_name": "Python 3"
    },
    "language_info": {
      "name": "python"
    }
  },
  "cells": [
    {
      "cell_type": "markdown",
      "metadata": {
        "id": "view-in-github",
        "colab_type": "text"
      },
      "source": [
        "<a href=\"https://colab.research.google.com/github/gyeomsoon/start-1-html-css-/blob/main/Untitled1.ipynb\" target=\"_parent\"><img src=\"https://colab.research.google.com/assets/colab-badge.svg\" alt=\"Open In Colab\"/></a>"
      ]
    },
    {
      "cell_type": "code",
      "execution_count": 10,
      "metadata": {
        "id": "TdNJPbTY7MTh"
      },
      "outputs": [],
      "source": [
        "#변수\n",
        "a = 4\n",
        "b = 3.14\n",
        "c = 'k'\n",
        "str = 'abcdef'"
      ]
    },
    {
      "cell_type": "code",
      "source": [
        "#변수의 타입 확인\n",
        "type(a)\n",
        "type(b)\n",
        "type(c)\n",
        "print(type(str)) #class는 변수의 형태  (클래스를 실행시키면 오브젝트라고 함)\n"
      ],
      "metadata": {
        "colab": {
          "base_uri": "https://localhost:8080/"
        },
        "id": "PxrqMhcp8ZiK",
        "outputId": "f330e97f-06b8-48b4-977f-8b8e560c5f6b"
      },
      "execution_count": 14,
      "outputs": [
        {
          "output_type": "stream",
          "name": "stdout",
          "text": [
            "<class 'str'>\n"
          ]
        }
      ]
    },
    {
      "cell_type": "code",
      "source": [
        "#float -> int 변환\n",
        "b = 3.57\n",
        "int(b)   #소수점 이하 생략 (why? 정수니까)\n"
      ],
      "metadata": {
        "colab": {
          "base_uri": "https://localhost:8080/"
        },
        "id": "IPo4cxU89Ois",
        "outputId": "08672de0-9005-46f3-adbe-1003baa938ab"
      },
      "execution_count": 19,
      "outputs": [
        {
          "output_type": "execute_result",
          "data": {
            "text/plain": [
              "3"
            ]
          },
          "metadata": {},
          "execution_count": 19
        }
      ]
    },
    {
      "cell_type": "code",
      "source": [
        "b = 3.14159\n",
        "round(b, 3)    #소수점 셋째자리까지 출력(넷째자리에서 반올림)"
      ],
      "metadata": {
        "colab": {
          "base_uri": "https://localhost:8080/"
        },
        "id": "kb_c4GIc9TAL",
        "outputId": "d4a8a5a3-57a0-4722-a733-74f977cc055b"
      },
      "execution_count": 22,
      "outputs": [
        {
          "output_type": "execute_result",
          "data": {
            "text/plain": [
              "3.142"
            ]
          },
          "metadata": {},
          "execution_count": 22
        }
      ]
    },
    {
      "cell_type": "code",
      "source": [
        "#문자열 변수(String)\n",
        "aStr = \"python\"       #큰따옴표\n",
        "bStr = 'program'      #작은 따옴표 (아무거나 상관없음)\n",
        "  "
      ],
      "metadata": {
        "id": "tqUWO6Jn97wv"
      },
      "execution_count": 23,
      "outputs": []
    },
    {
      "cell_type": "code",
      "source": [
        "#문자열의 길이\n",
        "print(len(aStr))     #len=길이  0 1 2 3 4 5\n",
        "                    #          -6-5-4-3-2-1"
      ],
      "metadata": {
        "colab": {
          "base_uri": "https://localhost:8080/"
        },
        "id": "gTNBRrHr-Q3T",
        "outputId": "4d98c29b-6324-4d9e-972c-547bb2cd579a"
      },
      "execution_count": 41,
      "outputs": [
        {
          "output_type": "stream",
          "name": "stdout",
          "text": [
            "6\n"
          ]
        }
      ]
    },
    {
      "cell_type": "code",
      "source": [
        "print(aStr[-1])   #마이너스 넘버의 인덱스 번호 사용가능"
      ],
      "metadata": {
        "colab": {
          "base_uri": "https://localhost:8080/"
        },
        "id": "jgd8KgoI-0Dm",
        "outputId": "9c4b5652-e2bb-430c-9dfe-9d7d3661d147"
      },
      "execution_count": 40,
      "outputs": [
        {
          "output_type": "stream",
          "name": "stdout",
          "text": [
            "n\n"
          ]
        }
      ]
    },
    {
      "cell_type": "code",
      "source": [
        "# 문자열 슬라이싱\n",
        "aStr[1:4]     #마지막 번호는 포함이 안된다! (1:4니까 yht)\n",
        "aStr[1:]\n",
        "aStr[:5]\n",
        "aStr[-3:]"
      ],
      "metadata": {
        "colab": {
          "base_uri": "https://localhost:8080/",
          "height": 35
        },
        "id": "IqdZNdrC_N_2",
        "outputId": "1e226388-1209-4af1-ffe5-719b7daf4c36"
      },
      "execution_count": 39,
      "outputs": [
        {
          "output_type": "execute_result",
          "data": {
            "text/plain": [
              "'hon'"
            ],
            "application/vnd.google.colaboratory.intrinsic+json": {
              "type": "string"
            }
          },
          "metadata": {},
          "execution_count": 39
        }
      ]
    },
    {
      "cell_type": "code",
      "source": [
        "#문자열과 *, + 연산자 사용가능\n",
        "aStr * 3\n",
        "aStr + bStr"
      ],
      "metadata": {
        "colab": {
          "base_uri": "https://localhost:8080/",
          "height": 35
        },
        "id": "hTArVRjeAGD-",
        "outputId": "f41f9bc8-e021-413b-cdfa-1ab4173bc3b3"
      },
      "execution_count": 38,
      "outputs": [
        {
          "output_type": "execute_result",
          "data": {
            "text/plain": [
              "'pythonprogram'"
            ],
            "application/vnd.google.colaboratory.intrinsic+json": {
              "type": "string"
            }
          },
          "metadata": {},
          "execution_count": 38
        }
      ]
    },
    {
      "cell_type": "code",
      "source": [
        "# 입력과 출력\n",
        "a = int(input(\"Enter = \"))\n",
        "print(a)"
      ],
      "metadata": {
        "colab": {
          "base_uri": "https://localhost:8080/"
        },
        "id": "-ubGH2FcAdWL",
        "outputId": "d074de5f-4a53-4b72-a2af-67361e4dacc9"
      },
      "execution_count": 46,
      "outputs": [
        {
          "output_type": "stream",
          "name": "stdout",
          "text": [
            "Enter = 1234\n",
            "1234\n"
          ]
        }
      ]
    },
    {
      "cell_type": "code",
      "source": [
        "a = 1\n",
        "b = 2\n",
        "c = 3\n",
        "print(a,b,c, sep='/')    #sep는 출력사이의 간격을 결정\n"
      ],
      "metadata": {
        "colab": {
          "base_uri": "https://localhost:8080/"
        },
        "id": "COFJKEYHBnIe",
        "outputId": "8f58c63e-30e1-47fe-b90f-982f520cf8fb"
      },
      "execution_count": 51,
      "outputs": [
        {
          "output_type": "stream",
          "name": "stdout",
          "text": [
            "1/2/3\n"
          ]
        }
      ]
    },
    {
      "cell_type": "code",
      "source": [
        "print(aStr, end='\\n')\n",
        "print(bStr)\n"
      ],
      "metadata": {
        "colab": {
          "base_uri": "https://localhost:8080/"
        },
        "id": "rJrBKFSLCJXE",
        "outputId": "66e3699a-2fb9-43a2-a8f3-3f40392182d1"
      },
      "execution_count": 55,
      "outputs": [
        {
          "output_type": "stream",
          "name": "stdout",
          "text": [
            "python program\n"
          ]
        }
      ]
    },
    {
      "cell_type": "code",
      "source": [
        "#문자열의 format method\n",
        "txt1 = \"My name is {fname}, I'm {age} old\".format(fname='kim', age=35)\n",
        "print(txt1)\n",
        "print(\"float number = {:.2f}\".format(3.1415))"
      ],
      "metadata": {
        "colab": {
          "base_uri": "https://localhost:8080/"
        },
        "id": "MSXxBI8TCx3_",
        "outputId": "1177a7e3-e227-4715-b22b-8348343bb34c"
      },
      "execution_count": 62,
      "outputs": [
        {
          "output_type": "stream",
          "name": "stdout",
          "text": [
            "My name is kim, I'm 35 old\n",
            "float number = 3.14\n"
          ]
        }
      ]
    }
  ]
}